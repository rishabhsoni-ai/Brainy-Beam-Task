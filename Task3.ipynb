{
  "nbformat": 4,
  "nbformat_minor": 0,
  "metadata": {
    "colab": {
      "provenance": [],
      "authorship_tag": "ABX9TyMfvOLCWqAheiBsPUOF7Whb",
      "include_colab_link": true
    },
    "kernelspec": {
      "name": "python3",
      "display_name": "Python 3"
    },
    "language_info": {
      "name": "python"
    }
  },
  "cells": [
    {
      "cell_type": "markdown",
      "metadata": {
        "id": "view-in-github",
        "colab_type": "text"
      },
      "source": [
        "<a href=\"https://colab.research.google.com/github/rishabhsoni-ai/Brainy-Beam-Task/blob/main/Task3.ipynb\" target=\"_parent\"><img src=\"https://colab.research.google.com/assets/colab-badge.svg\" alt=\"Open In Colab\"/></a>"
      ]
    },
    {
      "cell_type": "markdown",
      "source": [
        "TASK 3 :- Create a custom numpy data type and use it in an array."
      ],
      "metadata": {
        "id": "eIqjDh1iCoVU"
      }
    },
    {
      "cell_type": "code",
      "execution_count": 2,
      "metadata": {
        "colab": {
          "base_uri": "https://localhost:8080/"
        },
        "id": "XWW8iCr6BcKA",
        "outputId": "4d2d89cc-0e79-41f8-8ea3-039cdb37df4c"
      },
      "outputs": [
        {
          "output_type": "stream",
          "name": "stdout",
          "text": [
            "Structured NumPy Array:\n",
            "[('Rishabh', 21, 88.5) ('Anita', 22, 92. ) ('Vikas', 20, 79.5)] \n",
            "\n",
            "Names: ['Rishabh' 'Anita' 'Vikas']\n",
            "Ages: [21 22 20]\n",
            "Marks: [88.5 92.  79.5] \n",
            "\n",
            "Average Marks: 86.666664\n",
            "Top Students: [('Rishabh', 21, 88.5) ('Anita', 22, 92. )] \n",
            "\n",
            "Employees with Nested dtype:\n",
            "[(1, 'Amit', 55000., ('Delhi', 110001))\n",
            " (2, 'Priya', 60000., ('Mumbai', 400001))] \n",
            "\n",
            "Employee Cities: ['Delhi' 'Mumbai']\n"
          ]
        }
      ],
      "source": [
        "import numpy as np\n",
        "student_dtype = np.dtype([\n",
        "    ('name', 'U20'),\n",
        "    ('age', 'i4'),\n",
        "    ('marks', 'f4')\n",
        "])\n",
        "\n",
        "\n",
        "students = np.array([\n",
        "    (\"Rishabh\", 21, 88.5),\n",
        "    (\"Anita\", 22, 92.0),\n",
        "    (\"Vikas\", 20, 79.5)\n",
        "], dtype=student_dtype)\n",
        "\n",
        "print(\"Structured NumPy Array:\")\n",
        "print(students, \"\\n\")\n",
        "\n",
        "\n",
        "print(\"Names:\", students['name'])\n",
        "print(\"Ages:\", students['age'])\n",
        "print(\"Marks:\", students['marks'], \"\\n\")\n",
        "\n",
        "\n",
        "avg_marks = students['marks'].mean()\n",
        "print(\"Average Marks:\", avg_marks)\n",
        "\n",
        "top_students = students[students['marks'] > 85]\n",
        "print(\"Top Students:\", top_students, \"\\n\")\n",
        "\n",
        "\n",
        "address_dtype = np.dtype([\n",
        "    ('city', 'U20'),\n",
        "    ('pincode', 'i4')\n",
        "])\n",
        "\n",
        "employee_dtype = np.dtype([\n",
        "    ('id', 'i4'),\n",
        "    ('name', 'U20'),\n",
        "    ('salary', 'f4'),\n",
        "    ('address', address_dtype)\n",
        "])\n",
        "\n",
        "employees = np.array([\n",
        "    (1, \"Amit\", 55000, (\"Delhi\", 110001)),\n",
        "    (2, \"Priya\", 60000, (\"Mumbai\", 400001))\n",
        "], dtype=employee_dtype)\n",
        "\n",
        "print(\"Employees with Nested dtype:\")\n",
        "print(employees, \"\\n\")\n",
        "print(\"Employee Cities:\", employees['address']['city'])\n"
      ]
    }
  ]
}