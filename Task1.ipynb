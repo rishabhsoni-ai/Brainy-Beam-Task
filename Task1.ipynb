{
  "nbformat": 4,
  "nbformat_minor": 0,
  "metadata": {
    "colab": {
      "provenance": [],
      "authorship_tag": "ABX9TyOKVL5JHBQz1HKSrxIR/rGR",
      "include_colab_link": true
    },
    "kernelspec": {
      "name": "python3",
      "display_name": "Python 3"
    },
    "language_info": {
      "name": "python"
    }
  },
  "cells": [
    {
      "cell_type": "markdown",
      "metadata": {
        "id": "view-in-github",
        "colab_type": "text"
      },
      "source": [
        "<a href=\"https://colab.research.google.com/github/rishabhsoni-ai/Brainy-Beam-Task/blob/main/task1.ipynb\" target=\"_parent\"><img src=\"https://colab.research.google.com/assets/colab-badge.svg\" alt=\"Open In Colab\"/></a>"
      ]
    },
    {
      "cell_type": "markdown",
      "source": [
        "TASK 1 :- Use pandas' pivot and pivot_table functions to perform advanced data reshaping operations.\n"
      ],
      "metadata": {
        "id": "VRosRg9d4cLn"
      }
    },
    {
      "cell_type": "code",
      "execution_count": 1,
      "metadata": {
        "colab": {
          "base_uri": "https://localhost:8080/"
        },
        "id": "URMdldJy2OEw",
        "outputId": "9b663fce-4873-4fb7-90b1-d8cca589c903"
      },
      "outputs": [
        {
          "output_type": "stream",
          "name": "stdout",
          "text": [
            "Original DataFrame:\n",
            "         date    city  temperature  humidity\n",
            "0  2025-01-01   Delhi           20        30\n",
            "1  2025-01-01  Mumbai           25        40\n",
            "2  2025-01-02   Delhi           21        35\n",
            "3  2025-01-02  Mumbai           26        45 \n",
            "\n",
            "Pivoted (Temperature by City):\n",
            "city        Delhi  Mumbai\n",
            "date                     \n",
            "2025-01-01     20      25\n",
            "2025-01-02     21      26 \n",
            "\n",
            "Pivoted with Multiple Values:\n",
            "           temperature        humidity       \n",
            "city             Delhi Mumbai    Delhi Mumbai\n",
            "date                                         \n",
            "2025-01-01          20     25       30     40\n",
            "2025-01-02          21     26       35     45 \n",
            "\n",
            "DataFrame with Duplicates:\n",
            "         date    city  temperature  humidity\n",
            "0  2025-01-01   Delhi           20        30\n",
            "1  2025-01-01   Delhi           22        32\n",
            "2  2025-01-01  Mumbai           25        40\n",
            "3  2025-01-02  Mumbai           26        45 \n",
            "\n",
            "Pivot Table (Mean Temperature):\n",
            "city        Delhi  Mumbai\n",
            "date                     \n",
            "2025-01-01   21.0    25.0\n",
            "2025-01-02    NaN    26.0 \n",
            "\n",
            "Pivot Table (Mean, Max, Min):\n",
            "            mean          max          min       \n",
            "city       Delhi Mumbai Delhi Mumbai Delhi Mumbai\n",
            "date                                             \n",
            "2025-01-01  21.0   25.0  22.0   25.0  20.0   25.0\n",
            "2025-01-02   NaN   26.0   NaN   26.0   NaN   26.0 \n",
            "\n",
            "Pivot Table (Fill Missing with 0):\n",
            "city        Delhi  Mumbai\n",
            "date                     \n",
            "2025-01-01   21.0    25.0\n",
            "2025-01-02    0.0    26.0 \n",
            "\n",
            "Melted (Unpivoted) DataFrame:\n",
            "         date  Measurement  Value\n",
            "0  2025-01-01  temperature     20\n",
            "1  2025-01-01  temperature     25\n",
            "2  2025-01-02  temperature     21\n",
            "3  2025-01-02  temperature     26\n",
            "4  2025-01-01     humidity     30\n",
            "5  2025-01-01     humidity     40\n",
            "6  2025-01-02     humidity     35\n",
            "7  2025-01-02     humidity     45\n"
          ]
        }
      ],
      "source": [
        "import pandas as pd\n",
        "\n",
        "data = {\n",
        "    \"date\": [\"2025-01-01\",\"2025-01-01\",\"2025-01-02\",\"2025-01-02\"],\n",
        "    \"city\": [\"Delhi\",\"Mumbai\",\"Delhi\",\"Mumbai\"],\n",
        "    \"temperature\": [20, 25, 21, 26],\n",
        "    \"humidity\": [30, 40, 35, 45],\n",
        "}\n",
        "df = pd.DataFrame(data)\n",
        "\n",
        "print(\"Original DataFrame:\")\n",
        "print(df, \"\\n\")\n",
        "\n",
        "pivoted = df.pivot(index=\"date\", columns=\"city\", values=\"temperature\")\n",
        "print(\"Pivoted (Temperature by City):\")\n",
        "print(pivoted, \"\\n\")\n",
        "\n",
        "pivoted_multi = df.pivot(index=\"date\", columns=\"city\", values=[\"temperature\",\"humidity\"])\n",
        "print(\"Pivoted with Multiple Values:\")\n",
        "print(pivoted_multi, \"\\n\")\n",
        "\n",
        "data2 = {\n",
        "    \"date\": [\"2025-01-01\",\"2025-01-01\",\"2025-01-01\",\"2025-01-02\"],\n",
        "    \"city\": [\"Delhi\",\"Delhi\",\"Mumbai\",\"Mumbai\"],\n",
        "    \"temperature\": [20, 22, 25, 26],\n",
        "    \"humidity\": [30, 32, 40, 45],\n",
        "}\n",
        "df2 = pd.DataFrame(data2)\n",
        "\n",
        "print(\"DataFrame with Duplicates:\")\n",
        "print(df2, \"\\n\")\n",
        "\n",
        "pivot_tbl = df2.pivot_table(\n",
        "    index=\"date\",\n",
        "    columns=\"city\",\n",
        "    values=\"temperature\",\n",
        "    aggfunc=\"mean\"\n",
        ")\n",
        "print(\"Pivot Table (Mean Temperature):\")\n",
        "print(pivot_tbl, \"\\n\")\n",
        "\n",
        "pivot_tbl2 = df2.pivot_table(\n",
        "    index=\"date\",\n",
        "    columns=\"city\",\n",
        "    values=\"temperature\",\n",
        "    aggfunc=[\"mean\",\"max\",\"min\"]\n",
        ")\n",
        "print(\"Pivot Table (Mean, Max, Min):\")\n",
        "print(pivot_tbl2, \"\\n\")\n",
        "\n",
        "pivot_tbl3 = df2.pivot_table(\n",
        "    index=\"date\",\n",
        "    columns=\"city\",\n",
        "    values=\"temperature\",\n",
        "    aggfunc=\"mean\",\n",
        "    fill_value=0\n",
        ")\n",
        "print(\"Pivot Table (Fill Missing with 0):\")\n",
        "print(pivot_tbl3, \"\\n\")\n",
        "\n",
        "\n",
        "melted = df.melt(id_vars=[\"date\"], value_vars=[\"temperature\",\"humidity\"], var_name=\"Measurement\", value_name=\"Value\")\n",
        "print(\"Melted (Unpivoted) DataFrame:\")\n",
        "print(melted)\n"
      ]
    }
  ]
}
