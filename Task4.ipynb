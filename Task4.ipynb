{
  "nbformat": 4,
  "nbformat_minor": 0,
  "metadata": {
    "colab": {
      "provenance": [],
      "authorship_tag": "ABX9TyPX+gY5F9z2Ub1oNykK7RYC",
      "include_colab_link": true
    },
    "kernelspec": {
      "name": "python3",
      "display_name": "Python 3"
    },
    "language_info": {
      "name": "python"
    }
  },
  "cells": [
    {
      "cell_type": "markdown",
      "metadata": {
        "id": "view-in-github",
        "colab_type": "text"
      },
      "source": [
        "<a href=\"https://colab.research.google.com/github/rishabhsoni-ai/Brainy-Beam-Task/blob/main/Task4.ipynb\" target=\"_parent\"><img src=\"https://colab.research.google.com/assets/colab-badge.svg\" alt=\"Open In Colab\"/></a>"
      ]
    },
    {
      "cell_type": "markdown",
      "source": [
        "TASK 4 :- Solve Systems of Linear Equations using NumPy\n"
      ],
      "metadata": {
        "id": "VVJot-XjFUKu"
      }
    },
    {
      "cell_type": "code",
      "execution_count": 3,
      "metadata": {
        "colab": {
          "base_uri": "https://localhost:8080/"
        },
        "id": "sKDE1kXoECqS",
        "outputId": "b4d5f025-5973-43e7-d76b-e82ac6ae5847"
      },
      "outputs": [
        {
          "output_type": "stream",
          "name": "stdout",
          "text": [
            "Solution for 2-variable system [x, y]: [2. 1.]\n",
            "Verification (A @ X): [5. 1.] \n",
            "\n",
            "Solution for 3-variable system [x, y, z]: [ 5.  3. -2.]\n",
            "Verification (A @ X): [ 6. -4. 27.]\n"
          ]
        }
      ],
      "source": [
        "import numpy as np\n",
        "A1 = np.array([[2, 1],\n",
        "               [1, -1]])\n",
        "B1 = np.array([5, 1])\n",
        "\n",
        "solution1 = np.linalg.solve(A1, B1)\n",
        "\n",
        "print(\"Solution for 2-variable system [x, y]:\", solution1)\n",
        "print(\"Verification (A @ X):\", A1 @ solution1, \"\\n\")\n",
        "\n",
        "A2 = np.array([[1, 1, 1],\n",
        "               [0, 2, 5],\n",
        "               [2, 5, -1]])\n",
        "\n",
        "B2 = np.array([6, -4, 27])\n",
        "\n",
        "solution2 = np.linalg.solve(A2, B2)\n",
        "\n",
        "print(\"Solution for 3-variable system [x, y, z]:\", solution2)\n",
        "print(\"Verification (A @ X):\", A2 @ solution2)\n"
      ]
    }
  ]
}